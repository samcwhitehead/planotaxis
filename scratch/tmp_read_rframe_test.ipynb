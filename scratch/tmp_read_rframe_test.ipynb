{
 "cells": [
  {
   "cell_type": "code",
   "execution_count": 8,
   "id": "c1919ad1",
   "metadata": {},
   "outputs": [],
   "source": [
    "import os\n",
    "import h5py\n",
    "import cPickle\n",
    "import glob\n",
    "import numpy as np"
   ]
  },
  {
   "cell_type": "code",
   "execution_count": 9,
   "id": "8e266aac",
   "metadata": {},
   "outputs": [
    {
     "name": "stdout",
     "output_type": "stream",
     "text": [
      "/media/sam/SamData/FlyDB/Fly0054/exp_scripts_rframe_fits.hdf5\n"
     ]
    }
   ],
   "source": [
    "# get path info\n",
    "data_path = '/media/sam/SamData/FlyDB'\n",
    "folder_str = 'Fly%04d'\n",
    "fly_num = 54\n",
    "\n",
    "fn_str = '*_rframe_fits.hdf5'\n",
    "\n",
    "path_full = glob.glob(os.path.join(data_path, folder_str %(fly_num), fn_str))[0]\n",
    "print(path_full)"
   ]
  },
  {
   "cell_type": "code",
   "execution_count": 10,
   "id": "ba415c48",
   "metadata": {},
   "outputs": [
    {
     "name": "stdout",
     "output_type": "stream",
     "text": [
      "[u'left_RefFrameServer', u'right_RefFrameServer']\n"
     ]
    }
   ],
   "source": [
    "# load hdf5 file and print keys\n",
    "with h5py.File(path_full, 'r') as f:\n",
    "    print(f.keys())"
   ]
  },
  {
   "cell_type": "code",
   "execution_count": 12,
   "id": "97ae037d",
   "metadata": {},
   "outputs": [
    {
     "name": "stdout",
     "output_type": "stream",
     "text": [
      "left:\n",
      "(u'A', ' = ', array([ 118.94544325,   11.49659369,    8.27109877, -181.5001801 ]))\n",
      "(u'ros_tstamps', ' = ', 1675035588.8811264)\n",
      "(u'a1', ' = ', array([118.94544325,   8.27109877]))\n",
      "(u'p', ' = ', array([134.40677195, 239.77983815]))\n",
      "(u'a2', ' = ', array([  11.49659369, -181.5001801 ]))\n",
      "(u'components', ' = ', 'pr;tpd;nm;i1;iii3;i2;hg2;hg3;hg1;iii1;b1;b2;b3;iii24;hg4;bkg')\n",
      "(u'A_inv', ' = ', array([ 0.00837035,  0.00053019,  0.00038144, -0.00548548]))\n",
      "right:\n",
      "(u'A', ' = ', array([-125.44758227,  -12.20124282,   21.77408016, -183.82438177]))\n",
      "(u'ros_tstamps', ' = ', 1675035588.893342)\n",
      "(u'a1', ' = ', array([-125.44758227,   21.77408016]))\n",
      "(u'p', ' = ', array([243.71958616, 239.60721319]))\n",
      "(u'a2', ' = ', array([ -12.20124282, -183.82438177]))\n",
      "(u'components', ' = ', 'pr;tpd;nm;i1;iii3;i2;hg2;hg3;hg1;iii1;b1;b2;b3;iii24;hg4;bkg')\n",
      "(u'A_inv', ' = ', array([-0.00788067,  0.00052307, -0.00093347, -0.00537802]))\n"
     ]
    }
   ],
   "source": [
    "save_path = os.path.join(data_path, folder_str %(fly_num), 'ca_camera_%s_rframe_fits.cpkl' % (side))\n",
    "#         with open(save_path, 'wb') as fp:\n",
    "#             print(save_path)\n",
    "#             cPickle.dump(rframe_dict, fp)# make sure left and right saved differently\n",
    "key_str = u'%s_RefFrameServer'\n",
    "sides = ['left', 'right']\n",
    "\n",
    "with h5py.File(path_full, 'r') as f:\n",
    "    # loop over left/right\n",
    "    for side in sides:\n",
    "        side_key = key_str %(side)\n",
    "        \n",
    "        # create dict for current side; add all rframe keys to it\n",
    "        rframe_dict = dict()\n",
    "        for key in f[side_key].keys():\n",
    "            rframe_dict[key] = f[side_key][key][()][0]\n",
    "        print(side + ':')\n",
    "        for k in rframe_dict.keys():\n",
    "            print(k, ' = ', rframe_dict[k])\n",
    "        \n",
    "        # save output\n",
    "#         save_path = os.path.join(data_path, folder_str %(fly_num), 'ca_camera_%s_rframe_fits.cpkl' % (side))\n",
    "#         with open(save_path, 'wb') as fp:\n",
    "#             print(save_path)\n",
    "#             cPickle.dump(rframe_dict, fp)"
   ]
  },
  {
   "cell_type": "code",
   "execution_count": null,
   "id": "0eb57b05",
   "metadata": {},
   "outputs": [],
   "source": [
    "# A_new = [-181.5001801 ,    8.27109877,   11.49659369,  118.94544325]\n",
    "# A_inv_new = [-0.00548548,  0.00038144,  0.00053019,  0.00837035]\n",
    "# a1_new = [  8.27109877, 118.94544325]"
   ]
  }
 ],
 "metadata": {
  "kernelspec": {
   "display_name": "Python [conda env:muscle_imaging]",
   "language": "python",
   "name": "conda-env-muscle_imaging-py"
  },
  "language_info": {
   "codemirror_mode": {
    "name": "ipython",
    "version": 2
   },
   "file_extension": ".py",
   "mimetype": "text/x-python",
   "name": "python",
   "nbconvert_exporter": "python",
   "pygments_lexer": "ipython2",
   "version": "2.7.15"
  }
 },
 "nbformat": 4,
 "nbformat_minor": 5
}
