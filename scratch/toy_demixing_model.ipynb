{
 "cells": [
  {
   "cell_type": "markdown",
   "id": "166cd373",
   "metadata": {},
   "source": [
    "# Need a more intuitive grasp of muscle de-mixing\n",
    "\n",
    "In particular, it seems like there are some inconsistencies re: matrix dimension in the unmixing model, so I would like to get to the bottom of it.\n",
    "\n",
    "To best understand how the code should work, want to make a toy version of the de-mixing model here, with only a few basis images, and applying the basic de-mixing:\n",
    "\n",
    "$$ f = M^{-1}I$$\n",
    "\n",
    "where:\n",
    "  * M = model, the set of images of individual muscles, blurred according to PSF\n",
    "  * f = fits, the time series values for each muscle (what we used to calc \\DeltaF/F)\n",
    "  * I = image, the source image we're trying to fit to"
   ]
  },
  {
   "cell_type": "code",
   "execution_count": 35,
   "id": "a8af24e4",
   "metadata": {},
   "outputs": [],
   "source": [
    "# Imports\n",
    "import cv2\n",
    "import numpy as np\n",
    "import matplotlib.pyplot as plt"
   ]
  },
  {
   "cell_type": "markdown",
   "id": "5e587c2c",
   "metadata": {},
   "source": [
    "## Define basis images"
   ]
  },
  {
   "cell_type": "code",
   "execution_count": 36,
   "id": "0274f323",
   "metadata": {},
   "outputs": [],
   "source": [
    "# make a few small matrices with one \"on\" value\n",
    "model1 = np.zeros((2,3))\n",
    "model1[0,2] = 1\n",
    "\n",
    "model2 = np.zeros((2,3))\n",
    "model2[1,1] = 1\n",
    "\n",
    "models = [model1, model2]"
   ]
  },
  {
   "cell_type": "code",
   "execution_count": 37,
   "id": "c531916a",
   "metadata": {},
   "outputs": [
    {
     "data": {
      "image/png": "[encoded data removed]",
      "text/plain": [
       "<Figure size 720x360 with 2 Axes>"
      ]
     },
     "metadata": {
      "needs_background": "light"
     },
     "output_type": "display_data"
    }
   ],
   "source": [
    "# look at model images\n",
    "fig, ax_list = plt.subplots(1, len(models),figsize=(10,5))\n",
    "ax_list = ax_list.ravel()\n",
    "\n",
    "for ith, model in enumerate(models):\n",
    "    ax_list[ith].imshow(model, interpolation='none', vmin=0, vmax=3)\n",
    "    \n",
    "    ax_list[ith].set_xticks(np.arange(model.shape[1]))\n",
    "    ax_list[ith].set_yticks(np.arange(model.shape[0]))\n",
    "    \n",
    "    ax_list[ith].set_title('model %d'%(ith+1))"
   ]
  },
  {
   "cell_type": "markdown",
   "id": "1e61ebdc",
   "metadata": {},
   "source": [
    "## Define the image that we want to fit to\n",
    "\n",
    "Keeping it very basic"
   ]
  },
  {
   "cell_type": "code",
   "execution_count": 73,
   "id": "6a24c290",
   "metadata": {},
   "outputs": [],
   "source": [
    "# just make image a simple linear combination of models -- no noise\n",
    "b_vals = [2, 3]\n",
    "image = b_vals[0]*models[0] + b_vals[1]*models[1]\n"
   ]
  },
  {
   "cell_type": "code",
   "execution_count": 74,
   "id": "e9df113f",
   "metadata": {},
   "outputs": [
    {
     "data": {
      "text/plain": [
       "Text(0.5,1,'image to fit')"
      ]
     },
     "execution_count": 74,
     "metadata": {},
     "output_type": "execute_result"
    },
    {
     "data": {
      "image/png": "[encoded data removed]",
      "text/plain": [
       "<Figure size 432x288 with 1 Axes>"
      ]
     },
     "metadata": {
      "needs_background": "light"
     },
     "output_type": "display_data"
    }
   ],
   "source": [
    "# look at image to fit\n",
    "fig, ax = plt.subplots()\n",
    "\n",
    "ax.imshow(image, interpolation='none', vmin=0, vmax=3)\n",
    "\n",
    "ax.set_xticks(np.arange(image.shape[1]))\n",
    "ax.set_yticks(np.arange(image.shape[0]))\n",
    "\n",
    "ax.set_title('image to fit')"
   ]
  },
  {
   "cell_type": "markdown",
   "id": "917c3676",
   "metadata": {},
   "source": [
    "## Little helper function(s)"
   ]
  },
  {
   "cell_type": "code",
   "execution_count": 131,
   "id": "603d858e",
   "metadata": {},
   "outputs": [],
   "source": [
    "def do_fit_test(model_mat, image_vec):\n",
    "    \"\"\" code to run and visualize fit operation \"\"\"\n",
    "    # get matrix pseudo inverse\n",
    "    model_inv = np.linalg.pinv(model_mat)\n",
    "    \n",
    "    # do fit \n",
    "    fits = np.dot(model_inv.T, image_vec)\n",
    "    \n",
    "    # visualize operation\n",
    "    fig, (ax1, ax2, ax3) = plt.subplots(1, 3, figsize=(10,7))\n",
    "\n",
    "    ax1.imshow(model_inv, interpolation='none')\n",
    "    ax1.set_xticks(np.arange(model_inv.shape[1]))\n",
    "    ax1.set_yticks(np.arange(model_inv.shape[0]))\n",
    "    ax1.set_title('model matrix inverse')\n",
    "\n",
    "    ax2.imshow(image_vec, interpolation='none')\n",
    "    ax2.set_xticks(np.arange(image_vec.shape[1]))\n",
    "    ax2.set_yticks(np.arange(image_vec.shape[0]))\n",
    "    ax2.set_title('image vector')\n",
    "    \n",
    "    ax3.imshow(fits, interpolation='none', vmin=0)\n",
    "    ax3.set_xticks(np.arange(fits.shape[1]))\n",
    "    ax3.set_yticks(np.arange(fits.shape[0]))\n",
    "    ax3.set_title('fits')\n",
    "    \n",
    "    # print and return\n",
    "    print('fits = ', fits)\n",
    "    \n",
    "    return fits"
   ]
  },
  {
   "cell_type": "markdown",
   "id": "526b4381",
   "metadata": {},
   "source": [
    "## Do the fitting as coded in viewer.py"
   ]
  },
  {
   "cell_type": "code",
   "execution_count": 98,
   "id": "b6dc1512",
   "metadata": {},
   "outputs": [],
   "source": [
    "# Ravel image/models:\n",
    "\n",
    "# make models into (n x (N*M)) matrix\n",
    "model_mat = np.vstack([m.T.ravel() for m in models])\n",
    "\n",
    "# also convert image to vector\n",
    "image_vec = image.reshape((-1, np.prod(image.shape)))\n"
   ]
  },
  {
   "cell_type": "code",
   "execution_count": 99,
   "id": "9f8693f6",
   "metadata": {},
   "outputs": [
    {
     "name": "stdout",
     "output_type": "stream",
     "text": [
      "('Model mat shape: ', (2, 6))\n",
      "('Image vector shape: ', (1, 6))\n"
     ]
    }
   ],
   "source": [
    "print('Model mat shape: ', model_mat.shape)\n",
    "print('Image vector shape: ', image_vec.shape)"
   ]
  },
  {
   "cell_type": "code",
   "execution_count": 101,
   "id": "9814771d",
   "metadata": {},
   "outputs": [
    {
     "name": "stdout",
     "output_type": "stream",
     "text": [
      "('fits = ', array([[3.],\n",
      "       [0.]]))\n"
     ]
    },
    {
     "data": {
      "image/png": "[encoded data removed]",
      "text/plain": [
       "<Figure size 720x504 with 3 Axes>"
      ]
     },
     "metadata": {
      "needs_background": "light"
     },
     "output_type": "display_data"
    }
   ],
   "source": [
    "fits = do_fit_test(model_mat.T, image_vec.T)"
   ]
  },
  {
   "cell_type": "markdown",
   "id": "d753b498",
   "metadata": {},
   "source": [
    "## Try the thing that makes the most sense to me"
   ]
  },
  {
   "cell_type": "code",
   "execution_count": 113,
   "id": "71c2deaf",
   "metadata": {},
   "outputs": [],
   "source": [
    "# just get the model mat as normally as possible\n",
    "model_mat = np.vstack([m.ravel() for m in models])\n",
    "image_vec = image.reshape((np.prod(image.shape), -1))\n"
   ]
  },
  {
   "cell_type": "code",
   "execution_count": 114,
   "id": "efdadc51",
   "metadata": {},
   "outputs": [
    {
     "name": "stdout",
     "output_type": "stream",
     "text": [
      "('Model mat shape: ', (2, 6))\n",
      "('Image vector shape: ', (6, 1))\n"
     ]
    }
   ],
   "source": [
    "print('Model mat shape: ', model_mat.shape)\n",
    "print('Image vector shape: ', image_vec.shape)"
   ]
  },
  {
   "cell_type": "code",
   "execution_count": 116,
   "id": "9a870613",
   "metadata": {},
   "outputs": [
    {
     "data": {
      "text/plain": [
       "<matplotlib.image.AxesImage at 0x7fbcd2267dd0>"
      ]
     },
     "execution_count": 116,
     "metadata": {},
     "output_type": "execute_result"
    },
    {
     "data": {
      "image/png": "[encoded data removed]",
      "text/plain": [
       "<Figure size 432x288 with 1 Axes>"
      ]
     },
     "metadata": {
      "needs_background": "light"
     },
     "output_type": "display_data"
    }
   ],
   "source": [
    "fig, ax = plt.subplots()\n",
    "ax.imshow(model_mat)"
   ]
  },
  {
   "cell_type": "code",
   "execution_count": 115,
   "id": "3f842180",
   "metadata": {},
   "outputs": [
    {
     "name": "stdout",
     "output_type": "stream",
     "text": [
      "('fits = ', array([[2.],\n",
      "       [3.]]))\n"
     ]
    },
    {
     "data": {
      "image/png": "[encoded data removed]",
      "text/plain": [
       "<Figure size 720x504 with 3 Axes>"
      ]
     },
     "metadata": {
      "needs_background": "light"
     },
     "output_type": "display_data"
    }
   ],
   "source": [
    "fits = do_fit_test(model_mat, image_vec)"
   ]
  },
  {
   "cell_type": "markdown",
   "id": "5277ebb9",
   "metadata": {},
   "source": [
    "## Method immediately above seems to work -- does it extend to multiple images?"
   ]
  },
  {
   "cell_type": "code",
   "execution_count": 121,
   "id": "ccdae868",
   "metadata": {},
   "outputs": [
    {
     "name": "stdout",
     "output_type": "stream",
     "text": [
      "(2, 2, 3)\n"
     ]
    },
    {
     "data": {
      "text/plain": [
       "<matplotlib.image.AxesImage at 0x7fbcd21cc390>"
      ]
     },
     "execution_count": 121,
     "metadata": {},
     "output_type": "execute_result"
    },
    {
     "data": {
      "image/png": "[encoded data removed]",
      "text/plain": [
       "<Figure size 432x288 with 1 Axes>"
      ]
     },
     "metadata": {
      "needs_background": "light"
     },
     "output_type": "display_data"
    }
   ],
   "source": [
    "# append another image\n",
    "image2 = 5*models[1]\n",
    "image_stack = np.concatenate((image[np.newaxis,:], image2[np.newaxis,:]), axis=0)\n",
    " # np.moveaxis( , [0, 1, 2], [1,2,0])\n",
    "print(image_stack.shape)\n"
   ]
  },
  {
   "cell_type": "code",
   "execution_count": 136,
   "id": "6a0aa39e",
   "metadata": {},
   "outputs": [],
   "source": [
    "#now try the same transformations as above\n",
    "model_mat = np.vstack([m.ravel() for m in models])\n",
    "image_vec = image_stack.reshape(-1, (np.prod(image_stack.shape[1:]))).T"
   ]
  },
  {
   "cell_type": "code",
   "execution_count": 137,
   "id": "20e7df1d",
   "metadata": {},
   "outputs": [
    {
     "name": "stdout",
     "output_type": "stream",
     "text": [
      "('fits = ', array([[2., 0.],\n",
      "       [3., 5.]]))\n"
     ]
    },
    {
     "data": {
      "image/png": "[encoded data removed]",
      "text/plain": [
       "<Figure size 720x504 with 3 Axes>"
      ]
     },
     "metadata": {
      "needs_background": "light"
     },
     "output_type": "display_data"
    }
   ],
   "source": [
    "fits = do_fit_test(model_mat, image_vec)"
   ]
  },
  {
   "cell_type": "markdown",
   "id": "40298a7b",
   "metadata": {},
   "source": [
    "# Okay so what did we learn?\n",
    "\n",
    "In my current version of the code (as of 3/28/2023) there seems to be some mismatch between the way that the raw data images and the transformed confocal images look (at the very least, there seems to be an up/down flip that I don't know the origin of)\n",
    "\n",
    "**However** if we get the model images and data images so that they're in the same orientation, we should use the following transformations:\n",
    "\n",
    "  * `M = np.vstack([muscle.ravel() for muscle in model_muscles])` i.e. get muscle model image just gets flattened out into a row vector, and these get stacked on top of each other (so we'll have a K x (NxM) matrix, where K is the number of model elements)\n",
    "  * `Imat = I.reshape(-1, (np.prod(I.shape))).T` i.e. take the images we want to fit, and convert each image into a row vector, stack them on top of each other, and then take the transpose (so we'll end up with a (NxM) x T matrix)\n",
    "  * `Minv = np.linalg.pinv(M).T` take the pseudo-inverse of the model matrix, then take the transpose of this, so we can multiply it by our flattened image matrix (we get back to a K x (NxM) matrix this way)\n",
    "  * `fits = np.dot(Minv, Imat)` just multiply our two elements"
   ]
  },
  {
   "cell_type": "code",
   "execution_count": null,
   "id": "d9819798",
   "metadata": {},
   "outputs": [],
   "source": []
  }
 ],
 "metadata": {
  "kernelspec": {
   "display_name": "Python [conda env:muscle_imaging]",
   "language": "python",
   "name": "conda-env-muscle_imaging-py"
  },
  "language_info": {
   "codemirror_mode": {
    "name": "ipython",
    "version": 2
   },
   "file_extension": ".py",
   "mimetype": "text/x-python",
   "name": "python",
   "nbconvert_exporter": "python",
   "pygments_lexer": "ipython2",
   "version": "2.7.15"
  }
 },
 "nbformat": 4,
 "nbformat_minor": 5
}
