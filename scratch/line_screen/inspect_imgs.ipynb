{
 "cells": [
  {
   "cell_type": "code",
   "execution_count": 6,
   "metadata": {},
   "outputs": [],
   "source": [
    "import os"
   ]
  },
  {
   "cell_type": "code",
   "execution_count": 32,
   "metadata": {
    "collapsed": true
   },
   "outputs": [],
   "source": [
    "import sys\n",
    "sys.path.append('F:\\\\flight-muscles\\\\packages')\n",
    "sys.path.append('F:\\\\flight-muscles\\\\src')"
   ]
  },
  {
   "cell_type": "code",
   "execution_count": 33,
   "metadata": {},
   "outputs": [
    {
     "name": "stderr",
     "output_type": "stream",
     "text": [
      "F:\\flight-muscles\\packages\\tifffile.py:2170: UserWarning: failed to import _tifffile.decodepackbits\n",
      "  warnings.warn(\"failed to import %s\" % module_function)\n",
      "F:\\flight-muscles\\packages\\tifffile.py:2170: UserWarning: failed to import _tifffile.decodelzw\n",
      "  warnings.warn(\"failed to import %s\" % module_function)\n",
      "F:\\flight-muscles\\packages\\tifffile.py:2170: UserWarning: failed to import _tifffile.unpackints\n",
      "  warnings.warn(\"failed to import %s\" % module_function)\n"
     ]
    }
   ],
   "source": [
    "import tifffile"
   ]
  },
  {
   "cell_type": "code",
   "execution_count": 9,
   "metadata": {},
   "outputs": [],
   "source": [
    "folders = os.listdir('E:\\peripheral_screen')"
   ]
  },
  {
   "cell_type": "code",
   "execution_count": 68,
   "metadata": {
    "collapsed": true
   },
   "outputs": [],
   "source": [
    "sc_eval = dict()"
   ]
  },
  {
   "cell_type": "code",
   "execution_count": null,
   "metadata": {},
   "outputs": [],
   "source": []
  },
  {
   "cell_type": "code",
   "execution_count": 1490,
   "metadata": {
    "collapsed": true
   },
   "outputs": [],
   "source": [
    "fln = 81\n",
    "sbf = 1"
   ]
  },
  {
   "cell_type": "code",
   "execution_count": 1491,
   "metadata": {},
   "outputs": [
    {
     "ename": "IndexError",
     "evalue": "list index out of range",
     "output_type": "error",
     "traceback": [
      "\u001b[1;31m---------------------------------------------------------------------------\u001b[0m",
      "\u001b[1;31mIndexError\u001b[0m                                Traceback (most recent call last)",
      "\u001b[1;32m<ipython-input-1491-52b5c21b9181>\u001b[0m in \u001b[0;36m<module>\u001b[1;34m()\u001b[0m\n\u001b[0;32m      1\u001b[0m \u001b[0mroot_dir\u001b[0m \u001b[1;33m=\u001b[0m \u001b[1;34m'E:\\peripheral_screen'\u001b[0m\u001b[1;33m\u001b[0m\u001b[0m\n\u001b[0;32m      2\u001b[0m \u001b[0mfolders\u001b[0m \u001b[1;33m=\u001b[0m \u001b[0mos\u001b[0m\u001b[1;33m.\u001b[0m\u001b[0mlistdir\u001b[0m\u001b[1;33m(\u001b[0m\u001b[0mroot_dir\u001b[0m\u001b[1;33m)\u001b[0m\u001b[1;33m\u001b[0m\u001b[0m\n\u001b[1;32m----> 3\u001b[1;33m \u001b[0mfolder\u001b[0m \u001b[1;33m=\u001b[0m \u001b[0mfolders\u001b[0m\u001b[1;33m[\u001b[0m\u001b[0mfln\u001b[0m\u001b[1;33m]\u001b[0m\u001b[1;33m\u001b[0m\u001b[0m\n\u001b[0m\u001b[0;32m      4\u001b[0m \u001b[0msubfolders\u001b[0m \u001b[1;33m=\u001b[0m \u001b[0mos\u001b[0m\u001b[1;33m.\u001b[0m\u001b[0mlistdir\u001b[0m\u001b[1;33m(\u001b[0m\u001b[0mroot_dir\u001b[0m \u001b[1;33m+\u001b[0m \u001b[1;34m\"\"\"\\\\\"\"\"\u001b[0m \u001b[1;33m+\u001b[0m \u001b[0mfolder\u001b[0m\u001b[1;33m)\u001b[0m\u001b[1;33m\u001b[0m\u001b[0m\n\u001b[0;32m      5\u001b[0m \u001b[1;32mprint\u001b[0m \u001b[0mfolder\u001b[0m\u001b[1;33m\u001b[0m\u001b[0m\n",
      "\u001b[1;31mIndexError\u001b[0m: list index out of range"
     ]
    }
   ],
   "source": [
    "root_dir = 'E:\\peripheral_screen'\n",
    "folders = os.listdir(root_dir)\n",
    "folder = folders[fln]\n",
    "subfolders = os.listdir(root_dir + \"\"\"\\\\\"\"\" + folder)\n",
    "print folder\n",
    "print subfolders\n",
    "tiff_files = os.listdir(root_dir + \"\"\"\\\\\"\"\" + folder + \"\"\"\\\\\"\"\" + subfolders[sbf])\n",
    "tiff_filepath = root_dir + \"\"\"\\\\\"\"\" + folder + \"\"\"\\\\\"\"\" + subfolders[sbf] + \"\"\"\\\\\"\"\" +  tiff_files[0]\n",
    "tfile = tifffile.TiffFile(tiff_filepath)\n",
    "imgs = tfile.asarray()"
   ]
  },
  {
   "cell_type": "code",
   "execution_count": 1477,
   "metadata": {
    "collapsed": true
   },
   "outputs": [],
   "source": [
    "i = 2"
   ]
  },
  {
   "cell_type": "code",
   "execution_count": 1478,
   "metadata": {},
   "outputs": [],
   "source": [
    "imshow(np.mean(imgs[i:i+1],axis = 0),cmap = cm.gray)\n",
    "i+=5"
   ]
  },
  {
   "cell_type": "code",
   "execution_count": 1479,
   "metadata": {
    "collapsed": true
   },
   "outputs": [],
   "source": [
    "imshow(np.mean(imgs[i:i+1],axis = 0),cmap = cm.gray)\n",
    "i+=5"
   ]
  },
  {
   "cell_type": "code",
   "execution_count": 1480,
   "metadata": {
    "collapsed": true
   },
   "outputs": [],
   "source": [
    "imshow(np.mean(imgs[i:i+1],axis = 0),cmap = cm.gray)\n",
    "i+=5"
   ]
  },
  {
   "cell_type": "code",
   "execution_count": 1481,
   "metadata": {
    "collapsed": true
   },
   "outputs": [],
   "source": [
    "imshow(np.mean(imgs[i:i+1],axis = 0),cmap = cm.gray)\n",
    "i+=5"
   ]
  },
  {
   "cell_type": "code",
   "execution_count": 1445,
   "metadata": {
    "collapsed": true
   },
   "outputs": [],
   "source": [
    "imshow(np.mean(imgs[i:i+1],axis = 0),cmap = cm.gray)\n",
    "i+=5"
   ]
  },
  {
   "cell_type": "code",
   "execution_count": null,
   "metadata": {
    "collapsed": true
   },
   "outputs": [],
   "source": []
  },
  {
   "cell_type": "code",
   "execution_count": null,
   "metadata": {
    "collapsed": true
   },
   "outputs": [],
   "source": []
  },
  {
   "cell_type": "code",
   "execution_count": null,
   "metadata": {
    "collapsed": true
   },
   "outputs": [],
   "source": []
  },
  {
   "cell_type": "code",
   "execution_count": 1482,
   "metadata": {},
   "outputs": [],
   "source": [
    "include = False"
   ]
  },
  {
   "cell_type": "code",
   "execution_count": 1483,
   "metadata": {},
   "outputs": [],
   "source": [
    "sc_eval.update({folder:include})"
   ]
  },
  {
   "cell_type": "code",
   "execution_count": 1484,
   "metadata": {},
   "outputs": [
    {
     "data": {
      "text/plain": [
       "{'J264': True,\n",
       " 'J265': False,\n",
       " 'J266': True,\n",
       " 'J267': False,\n",
       " 'J268': False,\n",
       " 'J269': False,\n",
       " 'J270': True,\n",
       " 'J271': False,\n",
       " 'J272': True,\n",
       " 'J273': False,\n",
       " 'J274': True,\n",
       " 'R10C01-48436': True,\n",
       " 'R10E06-49236': False,\n",
       " 'R10F02-47843': '?',\n",
       " 'R10F08-48441': '-',\n",
       " 'R10F10-48442': False,\n",
       " 'R10H10-48445': False,\n",
       " 'R11A01-48279': False,\n",
       " 'R11A07-49826': True,\n",
       " 'R11B02-48284': True,\n",
       " 'R11B07-48447': False,\n",
       " 'R11C01-49240': False,\n",
       " 'R11D01-47452': '?',\n",
       " 'R11D02-48452': False,\n",
       " 'R11D07-48455': False,\n",
       " 'R11D08-47453': '?',\n",
       " 'R11E05-49827': 'ptc?',\n",
       " 'R11H07-47318': False,\n",
       " 'R12B03-47456': '?',\n",
       " 'R12G09-48525': False,\n",
       " 'R12H12-48534': False,\n",
       " 'R13A03-49247': '?',\n",
       " 'R13A04-48537': False,\n",
       " 'R13B01-48541': False,\n",
       " 'R13B10-48548': True,\n",
       " 'R13C11-48556': False,\n",
       " 'R13D05-48560': False,\n",
       " 'R13E04-48565': False,\n",
       " 'R13E12-48569': False,\n",
       " 'R13F07-48575': False,\n",
       " 'R13F09-48577': 'ptc',\n",
       " 'R13F11-48579': False,\n",
       " 'R13G12-48587': False,\n",
       " 'R13H03-48588': False,\n",
       " 'R14A11-48595': False,\n",
       " 'R14B01-48597': False,\n",
       " 'R14B11-49255': False,\n",
       " 'R14C03-48602': False,\n",
       " 'R14C07-48605': False,\n",
       " 'R14C08-48606': False,\n",
       " 'R14E12-48647': False,\n",
       " 'R14F05-49257': True,\n",
       " 'R14G08-48661': False,\n",
       " 'R14G10-49258': False,\n",
       " 'R14H02-48664': False,\n",
       " 'R14H06-48667': True,\n",
       " 'R15A04-48671': False,\n",
       " 'R15A05-48672': False,\n",
       " 'R15B03-49261': True,\n",
       " 'R15C01-48682': False,\n",
       " 'R15C05-48683': True,\n",
       " 'R15C11-48684': False,\n",
       " 'R15D08-48687': False,\n",
       " 'R15D10-48689': False,\n",
       " 'R15G08-48702': False,\n",
       " 'R15H10-48706': False,\n",
       " 'R16A07-48710': True,\n",
       " 'R16C03-48716': False,\n",
       " 'R16C09-48720': False,\n",
       " 'R16E03-48727': False,\n",
       " 'R16F02-48731': False,\n",
       " 'R16F12-48739': False,\n",
       " 'R16H03-48744': False,\n",
       " 'R27H05-47519': '?',\n",
       " 'R30C07-48097': '?',\n",
       " 'R35D04-49907': True,\n",
       " 'R47C12-50300': False,\n",
       " 'R65C04-49411': False,\n",
       " 'R67D05-47714': '?',\n",
       " 'R93H09-47241': False}"
      ]
     },
     "execution_count": 1484,
     "metadata": {},
     "output_type": "execute_result"
    }
   ],
   "source": [
    "sc_eval"
   ]
  },
  {
   "cell_type": "code",
   "execution_count": 1361,
   "metadata": {},
   "outputs": [
    {
     "data": {
      "text/plain": [
       "'R16E03-48727'"
      ]
     },
     "execution_count": 1361,
     "metadata": {},
     "output_type": "execute_result"
    }
   ],
   "source": [
    "folder"
   ]
  },
  {
   "cell_type": "code",
   "execution_count": 39,
   "metadata": {},
   "outputs": [
    {
     "name": "stdout",
     "output_type": "stream",
     "text": [
      "Using matplotlib backend: WXAgg\n",
      "Populating the interactive namespace from numpy and matplotlib\n"
     ]
    }
   ],
   "source": [
    "%pylab"
   ]
  },
  {
   "cell_type": "code",
   "execution_count": 41,
   "metadata": {
    "collapsed": true
   },
   "outputs": [],
   "source": []
  },
  {
   "cell_type": "code",
   "execution_count": null,
   "metadata": {
    "collapsed": true
   },
   "outputs": [],
   "source": []
  }
 ],
 "metadata": {
  "kernelspec": {
   "display_name": "Python [conda env:muscle_imaging]",
   "language": "python",
   "name": "conda-env-muscle_imaging-py"
  },
  "language_info": {
   "codemirror_mode": {
    "name": "ipython",
    "version": 2
   },
   "file_extension": ".py",
   "mimetype": "text/x-python",
   "name": "python",
   "nbconvert_exporter": "python",
   "pygments_lexer": "ipython2",
   "version": "2.7.15"
  }
 },
 "nbformat": 4,
 "nbformat_minor": 1
}
