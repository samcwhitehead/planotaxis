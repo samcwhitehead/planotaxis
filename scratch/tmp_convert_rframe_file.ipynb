{
 "cells": [
  {
   "cell_type": "markdown",
   "id": "037a8e3e",
   "metadata": {},
   "source": [
    "# Quick notebook to convert rframe files \n",
    "\n",
    "Going from **hdf5** format (as extracted from bag files) to **cpkl** format (as obtained from the GUI)"
   ]
  },
  {
   "cell_type": "code",
   "execution_count": 536,
   "id": "9e7281c4",
   "metadata": {},
   "outputs": [],
   "source": [
    "import os\n",
    "import h5py\n",
    "import cPickle\n",
    "\n",
    "import numpy as np"
   ]
  },
  {
   "cell_type": "markdown",
   "id": "8642263a",
   "metadata": {},
   "source": [
    "## load rframe from hdf5"
   ]
  },
  {
   "cell_type": "code",
   "execution_count": 537,
   "id": "d9580a59",
   "metadata": {},
   "outputs": [],
   "source": [
    "# get path to data\n",
    "root_path = '/media/sam/SamData/FlyDB'\n",
    "fly_num = 22\n",
    "side = 'left'\n",
    "\n",
    "data_path = os.path.join(root_path, 'Fly%04d' %(fly_num))\n",
    "fn = 'live_viewer_%s_rframe_fits.hdf5' %(side)"
   ]
  },
  {
   "cell_type": "code",
   "execution_count": 538,
   "id": "6b1d99aa",
   "metadata": {},
   "outputs": [
    {
     "name": "stdout",
     "output_type": "stream",
     "text": [
      "(u'A', ' = ', array([[-125.68180573,  -10.4302642 ,   15.40181465, -161.55766788],\n",
      "       [-125.68180573,  -10.4302642 ,   15.40181465, -161.55766788]]))\n",
      "(u'Ainv', ' = ', array([[-0.00789415,  0.00050965, -0.00075257, -0.00614115],\n",
      "       [-0.00789415,  0.00050965, -0.00075257, -0.00614115]]))\n",
      "(u'a1', ' = ', array([[-125.68180573,   15.40181465],\n",
      "       [-125.68180573,   15.40181465]]))\n",
      "(u'a2', ' = ', array([[ -10.4302642 , -161.55766788],\n",
      "       [ -10.4302642 , -161.55766788]]))\n",
      "(u'components', ' = ', array(['pr;tpd;nm;i1;iii3;i2;hg2;hg3;hg1;iii1;b1;b2;b3;iii24;hg4;bkg',\n",
      "       'pr;tpd;nm;i1;iii3;i2;hg2;hg3;hg1;iii1;b1;b2;b3;iii24;hg4;bkg'],\n",
      "      dtype='|S60'))\n",
      "(u'p', ' = ', array([[248.57556067, 219.54194575],\n",
      "       [248.57556067, 219.54194575]]))\n",
      "(u'ros_tstamps', ' = ', array([1.67063541e+09, 1.67063565e+09]))\n"
     ]
    }
   ],
   "source": [
    "# load hdf5 file\n",
    "rframe = dict()\n",
    "grp_key = 'LogRefFrame'\n",
    "# grp_key = 'ModelViewFrame'\n",
    "\n",
    "with h5py.File(os.path.join(data_path, fn), 'r') as f:\n",
    "    for key in f[grp_key].keys():\n",
    "        print(key, ' = ', f[grp_key][key][()])\n",
    "        rframe[key] = np.unique(f[grp_key][key][()])     "
   ]
  },
  {
   "cell_type": "code",
   "execution_count": 539,
   "id": "0aaba5cc",
   "metadata": {},
   "outputs": [
    {
     "name": "stdout",
     "output_type": "stream",
     "text": [
      "(u'A =', array([-161.55766788, -125.68180573,  -10.4302642 ,   15.40181465]))\n",
      "(u'Ainv =', array([-0.00789415, -0.00614115, -0.00075257,  0.00050965]))\n",
      "(u'ros_tstamps =', array([1.67063541e+09, 1.67063565e+09]))\n",
      "(u'a1 =', array([-125.68180573,   15.40181465]))\n",
      "(u'p =', array([219.54194575, 248.57556067]))\n",
      "(u'a2 =', array([-161.55766788,  -10.4302642 ]))\n",
      "(u'components =', array(['pr;tpd;nm;i1;iii3;i2;hg2;hg3;hg1;iii1;b1;b2;b3;iii24;hg4;bkg'],\n",
      "      dtype='|S60'))\n"
     ]
    }
   ],
   "source": [
    "# check that we loaded stuff correctly\n",
    "for k in rframe.keys():\n",
    "    print('%s =' %(k), rframe[k])"
   ]
  },
  {
   "cell_type": "code",
   "execution_count": 540,
   "id": "d91b3277",
   "metadata": {},
   "outputs": [],
   "source": [
    "# try to get A and Ainv to retain their shape\n",
    "rframe['A'] = np.reshape(rframe['A'], (2,2))\n",
    "rframe['Ainv'] = np.reshape(rframe['Ainv'], (2,2))"
   ]
  },
  {
   "cell_type": "markdown",
   "id": "adb28fb0",
   "metadata": {},
   "source": [
    "## deal with this transformation confusion"
   ]
  },
  {
   "cell_type": "code",
   "execution_count": 541,
   "id": "aece9337",
   "metadata": {
    "code_folding": []
   },
   "outputs": [
    {
     "name": "stdout",
     "output_type": "stream",
     "text": [
      "('points: ', array([[ 93.86014002, 263.97737531],\n",
      "       [219.54194575, 248.57556067],\n",
      "       [ 57.98427788, 238.14529647]]))\n"
     ]
    }
   ],
   "source": [
    "# get the array of points\n",
    "# rframe['p'][1] = rframe['p'][1]print(M)\n",
    "# rframe['a1'][1] = rframe['a1'][1]*-1\n",
    "# rframe['a2'][1] = rframe['a2'][1]*-1\n",
    "\n",
    "points = np.array([(rframe['p'][0]+rframe['a1'][0],rframe['p'][1]+rframe['a1'][1]),\n",
    "                    (rframe['p'][0],rframe['p'][1]),\n",
    "                    (rframe['p'][0]+rframe['a2'][0],rframe['p'][1]+rframe['a2'][1])])\n",
    "\n",
    "print('points: ', points)"
   ]
  },
  {
   "cell_type": "code",
   "execution_count": 542,
   "id": "008929f7",
   "metadata": {},
   "outputs": [
    {
     "name": "stdout",
     "output_type": "stream",
     "text": [
      "[[263.97737531  93.86014002   1.        ]\n",
      " [248.57556067 219.54194575   1.        ]\n",
      " [238.14529647  57.98427788   1.        ]]\n",
      "[[ 96.02262469  93.86014002]\n",
      " [111.42443933 219.54194575]\n",
      " [121.85470353  57.98427788]]\n"
     ]
    }
   ],
   "source": [
    "# # i think it's something like a 180 degree rotation. \n",
    "img_shape = np.array([270, 360])  # just going to cheat and hard-code in\n",
    "import cv2\n",
    "M = cv2.getRotationMatrix2D((img_shape[1]/2, img_shape[0]/2), 180,1)\n",
    "\n",
    "points_flip = np.fliplr(points.copy())\n",
    "points_homogeneous = np.hstack([points_flip, np.ones(shape=(points_flip.shape[0], 1))]).T\n",
    "print(points_homogeneous.T)\n",
    "\n",
    "transformed_points = M.dot(points_homogeneous).T\n",
    "# print(transformed_points)\n",
    "# transformed_points = points_flip \n",
    "transformed_points[:,1] = img_shape[0] - transformed_points[:,1]\n",
    "print(transformed_points)"
   ]
  },
  {
   "cell_type": "code",
   "execution_count": 543,
   "id": "8bc828d5",
   "metadata": {},
   "outputs": [],
   "source": [
    "# transformed_points = points.copy()\n",
    "# transformed_points[:,0] = img_shape[1] - transformed_points[:,0]\n",
    "# print(transformed_points)"
   ]
  },
  {
   "cell_type": "code",
   "execution_count": 544,
   "id": "ef68a5c4",
   "metadata": {},
   "outputs": [],
   "source": [
    "# # create new rframe from transformed points\n",
    "# rframe_new = rframe.copy()\n",
    "# rframe_new['p'] = transformed_points[1,:2]\n",
    "# rframe_new['a1'] = transformed_points[0,:2] - transformed_points[1,:2]\n",
    "# rframe_new['a2'] = transformed_points[2,:2] - transformed_points[1,:2]\n",
    "\n",
    "rframe_new = rframe.copy()\n",
    "rframe_new['p'] = rframe_new['p']\n",
    "rframe_new['a1'] = np.flip(rframe_new['a1'])\n",
    "rframe_new['a2'] = np.flip(rframe_new['a2'])\n",
    "\n",
    "A = np.vstack((rframe_new['a1'],rframe_new['a2'])).T\n",
    "A_inv = np.linalg.inv(A)\n",
    "\n",
    "rframe_new['A'] = A\n",
    "rframe_new['Ainv'] = A_inv"
   ]
  },
  {
   "cell_type": "code",
   "execution_count": 545,
   "id": "fb0b321b",
   "metadata": {
    "code_folding": [
     0
    ]
   },
   "outputs": [],
   "source": [
    "# # try some noodling\n",
    "# img_shape = np.array([270, 360])\n",
    "# p = rframe['p'].copy()\n",
    "\n",
    "# p_new = rframe['p'].copy()\n",
    "# p_new[1] = img_shape[1] - p_new[1]\n",
    "# p_new = np.flip(p_new)\n",
    "\n",
    "# print('old p = ', p)\n",
    "# print('new p =', p_new)\n",
    "\n",
    "# a1_new = rframe['a1'].copy()\n",
    "# a1_new[0] = -1*a1_new[0]\n",
    "# # # a1_new[1] = img_shape[1] - a1_new[1]\n",
    "# # a1_new = np.flip(a1_new)\n",
    "# # print(rframe['a1'])\n",
    "# print(a1_new)\n",
    "\n",
    "# a2_new = rframe['a2'].copy()\n",
    "# a2_new = np.flip(rframe['a2'])\n",
    "# a2_new[0] = -1*a2_new[0]\n",
    "# print(a2_new)\n"
   ]
  },
  {
   "cell_type": "code",
   "execution_count": 546,
   "id": "e05e81eb",
   "metadata": {
    "code_folding": [
     0
    ]
   },
   "outputs": [],
   "source": [
    "# rframe_new = rframe.copy()\n",
    "# rframe_new['p'] = p_new\n",
    "# rframe_new['a1'] = a1_new\n",
    "# rframe_new['a2'] = a2_new"
   ]
  },
  {
   "cell_type": "code",
   "execution_count": 547,
   "id": "631874b8",
   "metadata": {},
   "outputs": [
    {
     "name": "stdout",
     "output_type": "stream",
     "text": [
      "OLD:\n",
      "(u'A = ', array([[-161.55766788, -125.68180573],\n",
      "       [ -10.4302642 ,   15.40181465]]))\n",
      "(u'Ainv = ', array([[-0.00789415, -0.00614115],\n",
      "       [-0.00075257,  0.00050965]]))\n",
      "(u'ros_tstamps = ', array([1.67063541e+09, 1.67063565e+09]))\n",
      "(u'a1 = ', array([-125.68180573,   15.40181465]))\n",
      "(u'p = ', array([219.54194575, 248.57556067]))\n",
      "(u'a2 = ', array([-161.55766788,  -10.4302642 ]))\n",
      "(u'components = ', array(['pr;tpd;nm;i1;iii3;i2;hg2;hg3;hg1;iii1;b1;b2;b3;iii24;hg4;bkg'],\n",
      "      dtype='|S60'))\n"
     ]
    }
   ],
   "source": [
    "print('OLD:')\n",
    "for key in rframe.keys():\n",
    "    print('%s = '%(key), rframe[key])"
   ]
  },
  {
   "cell_type": "code",
   "execution_count": 548,
   "id": "8914d21f",
   "metadata": {},
   "outputs": [
    {
     "name": "stdout",
     "output_type": "stream",
     "text": [
      "NEW:\n",
      "(u'A = ', array([[  15.40181465,  -10.4302642 ],\n",
      "       [-125.68180573, -161.55766788]]))\n",
      "(u'a1 = ', array([  15.40181465, -125.68180573]))\n",
      "(u'Ainv = ', array([[ 0.0425244 , -0.0027454 ],\n",
      "       [-0.03308134, -0.00405399]]))\n",
      "(u'a2 = ', array([ -10.4302642 , -161.55766788]))\n",
      "(u'components = ', array(['pr;tpd;nm;i1;iii3;i2;hg2;hg3;hg1;iii1;b1;b2;b3;iii24;hg4;bkg'],\n",
      "      dtype='|S60'))\n",
      "(u'p = ', array([219.54194575, 248.57556067]))\n",
      "(u'ros_tstamps = ', array([1.67063541e+09, 1.67063565e+09]))\n"
     ]
    }
   ],
   "source": [
    "print('NEW:')\n",
    "for key in rframe_new.keys():\n",
    "    print('%s = '%(key), rframe_new[key])"
   ]
  },
  {
   "cell_type": "code",
   "execution_count": 549,
   "id": "cdd3650a",
   "metadata": {},
   "outputs": [],
   "source": [
    "# # get new transformation matrix as well\n",
    "# A = np.vstack((rframe_new['a1'],rframe_new['a2'])).T\n",
    "# A_inv = np.linalg.inv(A)\n",
    "# rframe_new['A'] = 0.*A \n",
    "# rframe_new['Ainv'] = Ainv\n",
    "# print(A)"
   ]
  },
  {
   "cell_type": "code",
   "execution_count": 550,
   "id": "1026a8e6",
   "metadata": {},
   "outputs": [
    {
     "data": {
      "text/plain": [
       "(0, 360)"
      ]
     },
     "execution_count": 550,
     "metadata": {},
     "output_type": "execute_result"
    },
    {
     "data": {
      "image/png": "[encoded data removed]",
      "text/plain": [
       "<Figure size 432x288 with 1 Axes>"
      ]
     },
     "metadata": {
      "needs_background": "light"
     },
     "output_type": "display_data"
    }
   ],
   "source": [
    "# quick graphical test\n",
    "import matplotlib.pyplot as plt\n",
    "\n",
    "fig, ax = plt.subplots()\n",
    "marker_list = ['bo', 'ro', 'go']\n",
    "marker_list_new = ['co', 'mo', 'yo']\n",
    "\n",
    "\n",
    "for ith in range(len(key_list)):\n",
    "    ax.plot(points[ith][0], points[ith][1], marker_list[ith])\n",
    "    ax.plot(transformed_points[ith][0], transformed_points[ith][1], marker_list_new[ith])\n",
    "    \n",
    "ax.set_xlim([0, img_shape[1]])\n",
    "ax.set_ylim([0, img_shape[1]])"
   ]
  },
  {
   "cell_type": "markdown",
   "id": "2e7c45b9",
   "metadata": {},
   "source": [
    "## save as cpickle file"
   ]
  },
  {
   "cell_type": "code",
   "execution_count": 551,
   "id": "c0de471b",
   "metadata": {},
   "outputs": [],
   "source": [
    "## temp: just give it a manual answer\n",
    "rframe_new = rframe.copy()\n",
    "rframe_new['a1'] = np.array([113.57617785,  13.04314034])\n",
    "rframe_new['a2'] = np.array([20.81125759, -181.0342006])\n",
    "rframe_new['p'] = np.array([106.95791222, 227.10423465])"
   ]
  },
  {
   "cell_type": "code",
   "execution_count": 552,
   "id": "af71b5e7",
   "metadata": {},
   "outputs": [],
   "source": [
    "# save dict as pickle file\n",
    "save_fn = 'ca_camera_%s_rframe_fits.cpkl' %(side)\n",
    "A = np.vstack((rframe_new['a1'],rframe_new['a2'])).T\n",
    "A_inv = np.linalg.inv(A)\n",
    "\n",
    "rframe_new['A'] = A\n",
    "rframe_new['Ainv'] = A_inv\n",
    "with open(os.path.join(data_path, save_fn),'wb') as f:\n",
    "    cPickle.dump(rframe_new, f)"
   ]
  },
  {
   "cell_type": "code",
   "execution_count": 553,
   "id": "19224d30",
   "metadata": {},
   "outputs": [
    {
     "data": {
      "text/plain": [
       "\"\\nFrom manual adjustment:\\n\\n('a1 =', array([121.57703567,  10.29115987]))\\n('A =', array([[ 121.57703567,   -2.68381323],\\n       [  10.29115987, -163.95834655]]))\\n('a2 =', array([  -2.68381323, -163.95834655]))\\n('A_inv =', array([[ 0.00823665, -0.00013482],\\n       [ 0.00051699, -0.00610757]]))\\n('p =', array([123.23231623, 225.14260015]))\\n\""
      ]
     },
     "execution_count": 553,
     "metadata": {},
     "output_type": "execute_result"
    }
   ],
   "source": [
    "\"\"\"\n",
    "From manual adjustment:\n",
    "\n",
    "('a1 =', array([121.57703567,  10.29115987]))\n",
    "('A =', array([[ 121.57703567,   -2.68381323],\n",
    "       [  10.29115987, -163.95834655]]))\n",
    "('a2 =', array([  -2.68381323, -163.95834655]))\n",
    "('A_inv =', array([[ 0.00823665, -0.00013482],\n",
    "       [ 0.00051699, -0.00610757]]))\n",
    "('p =', array([123.23231623, 225.14260015]))\n",
    "\"\"\""
   ]
  },
  {
   "cell_type": "code",
   "execution_count": 554,
   "id": "4ba258a8",
   "metadata": {},
   "outputs": [
    {
     "data": {
      "text/plain": [
       "\"\\nFrom a second manual adjustment (printed by GUI)\\n('a1 =', array([112.61311877,   8.21935677]))\\n('A =', array([[ 112.61311877,    0.58701694],\\n       [   8.21935677, -181.0342006 ]]))\\n('a2 =', array([   0.58701694, -181.0342006 ]))\\n('A_inv =', array([[ 8.87785899e-03,  2.87871219e-05],\\n       [ 4.03a1074613e-04, -5.52251113e-03]]))\\n('p =', array([126.21909379, 230.72207233]))\\n\\n\""
      ]
     },
     "execution_count": 554,
     "metadata": {},
     "output_type": "execute_result"
    }
   ],
   "source": [
    "\"\"\"\n",
    "From a second manual adjustment (printed by GUI)\n",
    "('a1 =', array([112.61311877,   8.21935677]))\n",
    "('A =', array([[ 112.61311877,    0.58701694],\n",
    "       [   8.21935677, -181.0342006 ]]))\n",
    "('a2 =', array([   0.58701694, -181.0342006 ]))\n",
    "('A_inv =', array([[ 8.87785899e-03,  2.87871219e-05],\n",
    "       [ 4.03a1074613e-04, -5.52251113e-03]]))\n",
    "('p =', array([126.21909379, 230.72207233]))\n",
    "\n",
    "\"\"\""
   ]
  },
  {
   "cell_type": "code",
   "execution_count": 555,
   "id": "35d002fb",
   "metadata": {},
   "outputs": [
    {
     "data": {
      "text/plain": [
       "\"\\n('a1 =', array([113.57617785,  13.04314034]))\\n('A =', array([[ 113.57617785,   20.81125759],\\n       [  13.04314034, -181.0342006 ]]))\\n('a2 =', array([  20.81125759, -181.0342006 ]))\\n('A_inv =', array([[ 0.00868994,  0.00099897],\\n       [ 0.00062609, -0.00545184]]))\\n('p =', array([106.95791222, 227.10423465]))\\n\""
      ]
     },
     "execution_count": 555,
     "metadata": {},
     "output_type": "execute_result"
    }
   ],
   "source": [
    "\"\"\"\n",
    "('a1 =', array([113.57617785,  13.04314034]))\n",
    "('A =', array([[ 113.57617785,   20.81125759],\n",
    "       [  13.04314034, -181.0342006 ]]))\n",
    "('a2 =', array([  20.81125759, -181.0342006 ]))\n",
    "('A_inv =', array([[ 0.00868994,  0.00099897],\n",
    "       [ 0.00062609, -0.00545184]]))\n",
    "('p =', array([106.95791222, 227.10423465]))\n",
    "\"\"\""
   ]
  },
  {
   "cell_type": "markdown",
   "id": "6b2ad4af",
   "metadata": {},
   "source": [
    "## Scratch"
   ]
  },
  {
   "cell_type": "code",
   "execution_count": 556,
   "id": "789c356f",
   "metadata": {},
   "outputs": [],
   "source": [
    "# is there a way to learn anything from the affine transformation between what we expect and what we get?"
   ]
  }
 ],
 "metadata": {
  "kernelspec": {
   "display_name": "Python [conda env:muscle_imaging]",
   "language": "python",
   "name": "conda-env-muscle_imaging-py"
  },
  "language_info": {
   "codemirror_mode": {
    "name": "ipython",
    "version": 2
   },
   "file_extension": ".py",
   "mimetype": "text/x-python",
   "name": "python",
   "nbconvert_exporter": "python",
   "pygments_lexer": "ipython2",
   "version": "2.7.15"
  }
 },
 "nbformat": 4,
 "nbformat_minor": 5
}
